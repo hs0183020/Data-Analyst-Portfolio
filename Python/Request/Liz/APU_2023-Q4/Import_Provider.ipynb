{
  "nbformat": 4,
  "nbformat_minor": 0,
  "metadata": {
    "colab": {
      "provenance": [],
      "authorship_tag": "ABX9TyNsHx4Yl0iiExHM/xyU/s9y"
    },
    "kernelspec": {
      "name": "python3",
      "display_name": "Python 3"
    },
    "language_info": {
      "name": "python"
    }
  },
  "cells": [
    {
      "cell_type": "markdown",
      "source": [
        "\tThe purpose of this program is to collect a quarterly extract of providers for each PAC type (SNF, Hospice, IRF, LTCH.)\n",
        "\tThis is needed to update the list of providers for each PAC type for quarterly APU and OR reporting.\n",
        "\tThis quarterly extract will be combined with data from past quarters (necessary in order to capture earliest OPD.)\n",
        "\n",
        "\tInputs:\tCDR provider Hive database (currently legacy_provider_data), table csp_prvdr_cmn\n",
        "\tOutputs: One quarterly extract/provider type, output to project directory\n",
        "\n",
        "\tStrategy:\n",
        "\t\tRepeat for each PAC location:\n",
        "\t\t\tExtract data from Hive source using a passthrough query in PROC SQL\n",
        "\t\t\tThis doesn't allow for compression, so place results in the CASLIB for the output location\n",
        "\t\t\tWrite table to the CASLIB\n",
        "\t\tUpdated strategy:\n",
        "\t\t\tExtract data from Hive source using a passthrough query in PROC SQL\n",
        "\t\t\tQA data in work library\n",
        "\t\t\tWrite table to the workbench\n",
        "\n",
        "\tNotes:\n",
        "\t\tThis pulls all fields from the provider file. We don't really NEED all the fields for our purposes, so it might make sense to\n",
        "\t\trestrict the fields at some point in the future.\n",
        "\n",
        "\t\tWith that said, these are very small files, for the most part."
      ],
      "metadata": {
        "id": "Dml7WihPa4JU"
      }
    },
    {
      "cell_type": "code",
      "source": [
        "!rm -r Data-Analyst-Portfolio\n",
        "!git clone https://github.com/hs0183020/Data-Analyst-Portfolio.git"
      ],
      "metadata": {
        "id": "WiKTh20rwdEe",
        "outputId": "fdeef652-19c8-46b5-a0f4-47c57e7ad34d",
        "colab": {
          "base_uri": "https://localhost:8080/"
        }
      },
      "execution_count": 1,
      "outputs": [
        {
          "output_type": "stream",
          "name": "stdout",
          "text": [
            "Cloning into 'Data-Analyst-Portfolio'...\n",
            "remote: Enumerating objects: 386, done.\u001b[K\n",
            "remote: Counting objects: 100% (304/304), done.\u001b[K\n",
            "remote: Compressing objects: 100% (272/272), done.\u001b[K\n",
            "remote: Total 386 (delta 127), reused 0 (delta 0), pack-reused 82\u001b[K\n",
            "Receiving objects: 100% (386/386), 1.28 MiB | 13.33 MiB/s, done.\n",
            "Resolving deltas: 100% (139/139), done.\n"
          ]
        }
      ]
    },
    {
      "cell_type": "code",
      "source": [
        "import sys\n",
        "sys.path.insert(0,'/content/Data-Analyst-Portfolio/Python/Request/Liz/APU_2023-Q4')\n",
        "\n",
        "from APU_Common import Config_obj"
      ],
      "metadata": {
        "id": "SSPBHmOWwjqK",
        "outputId": "15746cd3-40b4-4512-e815-9fa180d6e3b2",
        "colab": {
          "base_uri": "https://localhost:8080/",
          "height": 225
        }
      },
      "execution_count": 2,
      "outputs": [
        {
          "output_type": "display_data",
          "data": {
            "text/plain": [
              "\u001b[31mNote: \u001b[0m\u001b[31mcmn_qtr_start\u001b[0m\u001b[31m= 01OCT2023 \u001b[0m\u001b[31mcmn_qtr_end\u001b[0m\u001b[31m= 31DEC2023\u001b[0m\n"
            ],
            "text/html": [
              "<pre style=\"white-space:pre;overflow-x:auto;line-height:normal;font-family:Menlo,'DejaVu Sans Mono',consolas,'Courier New',monospace\"><span style=\"color: #800000; text-decoration-color: #800000\">Note: </span><span style=\"color: #800000; text-decoration-color: #800000\">cmn_qtr_start</span><span style=\"color: #800000; text-decoration-color: #800000\">= 01OCT2023 </span><span style=\"color: #800000; text-decoration-color: #800000\">cmn_qtr_end</span><span style=\"color: #800000; text-decoration-color: #800000\">= 31DEC2023</span>\n",
              "</pre>\n"
            ]
          },
          "metadata": {}
        },
        {
          "output_type": "display_data",
          "data": {
            "text/plain": [
              "\u001b[31mNote: \u001b[0m\u001b[31mcmn_report_start\u001b[0m\u001b[31m= 01JAN2023 \u001b[0m\u001b[31mcmn_report_end\u001b[0m\u001b[31m= 31DEC2023\u001b[0m\n"
            ],
            "text/html": [
              "<pre style=\"white-space:pre;overflow-x:auto;line-height:normal;font-family:Menlo,'DejaVu Sans Mono',consolas,'Courier New',monospace\"><span style=\"color: #800000; text-decoration-color: #800000\">Note: </span><span style=\"color: #800000; text-decoration-color: #800000\">cmn_report_start</span><span style=\"color: #800000; text-decoration-color: #800000\">= 01JAN2023 </span><span style=\"color: #800000; text-decoration-color: #800000\">cmn_report_end</span><span style=\"color: #800000; text-decoration-color: #800000\">= 31DEC2023</span>\n",
              "</pre>\n"
            ]
          },
          "metadata": {}
        },
        {
          "output_type": "display_data",
          "data": {
            "text/plain": [
              "\u001b[31mNote: \u001b[0m\u001b[31mcmn_qtr_start_hosp\u001b[0m\u001b[31m= 01JAN2024 \u001b[0m\u001b[31mcmn_qtr_end_hosp\u001b[0m\u001b[31m= 31MAR2024\u001b[0m\n"
            ],
            "text/html": [
              "<pre style=\"white-space:pre;overflow-x:auto;line-height:normal;font-family:Menlo,'DejaVu Sans Mono',consolas,'Courier New',monospace\"><span style=\"color: #800000; text-decoration-color: #800000\">Note: </span><span style=\"color: #800000; text-decoration-color: #800000\">cmn_qtr_start_hosp</span><span style=\"color: #800000; text-decoration-color: #800000\">= 01JAN2024 </span><span style=\"color: #800000; text-decoration-color: #800000\">cmn_qtr_end_hosp</span><span style=\"color: #800000; text-decoration-color: #800000\">= 31MAR2024</span>\n",
              "</pre>\n"
            ]
          },
          "metadata": {}
        },
        {
          "output_type": "display_data",
          "data": {
            "text/plain": [
              "\u001b[31mNote: \u001b[0m\u001b[31mcmn_report_start_hosp\u001b[0m\u001b[31m= 01JAN2024 \u001b[0m\u001b[31mcmn_report_end_hosp\u001b[0m\u001b[31m= 31MAR2024\u001b[0m\n"
            ],
            "text/html": [
              "<pre style=\"white-space:pre;overflow-x:auto;line-height:normal;font-family:Menlo,'DejaVu Sans Mono',consolas,'Courier New',monospace\"><span style=\"color: #800000; text-decoration-color: #800000\">Note: </span><span style=\"color: #800000; text-decoration-color: #800000\">cmn_report_start_hosp</span><span style=\"color: #800000; text-decoration-color: #800000\">= 01JAN2024 </span><span style=\"color: #800000; text-decoration-color: #800000\">cmn_report_end_hosp</span><span style=\"color: #800000; text-decoration-color: #800000\">= 31MAR2024</span>\n",
              "</pre>\n"
            ]
          },
          "metadata": {}
        },
        {
          "output_type": "display_data",
          "data": {
            "text/plain": [
              "\u001b[31mNote: \u001b[0m\u001b[31mcmn_yy\u001b[0m\u001b[31m= \u001b[0m\u001b[1;31m23\u001b[0m\n"
            ],
            "text/html": [
              "<pre style=\"white-space:pre;overflow-x:auto;line-height:normal;font-family:Menlo,'DejaVu Sans Mono',consolas,'Courier New',monospace\"><span style=\"color: #800000; text-decoration-color: #800000\">Note: </span><span style=\"color: #800000; text-decoration-color: #800000\">cmn_yy</span><span style=\"color: #800000; text-decoration-color: #800000\">= </span><span style=\"color: #800000; text-decoration-color: #800000; font-weight: bold\">23</span>\n",
              "</pre>\n"
            ]
          },
          "metadata": {}
        },
        {
          "output_type": "display_data",
          "data": {
            "text/plain": [
              "\u001b[31mNote: \u001b[0m\u001b[31mcmn_qq\u001b[0m\u001b[31m= Q4\u001b[0m\n"
            ],
            "text/html": [
              "<pre style=\"white-space:pre;overflow-x:auto;line-height:normal;font-family:Menlo,'DejaVu Sans Mono',consolas,'Courier New',monospace\"><span style=\"color: #800000; text-decoration-color: #800000\">Note: </span><span style=\"color: #800000; text-decoration-color: #800000\">cmn_qq</span><span style=\"color: #800000; text-decoration-color: #800000\">= Q4</span>\n",
              "</pre>\n"
            ]
          },
          "metadata": {}
        },
        {
          "output_type": "display_data",
          "data": {
            "text/plain": [
              "\u001b[31mNote: \u001b[0m\u001b[31mcmn_yy_hosp\u001b[0m\u001b[31m= \u001b[0m\u001b[1;31m24\u001b[0m\n"
            ],
            "text/html": [
              "<pre style=\"white-space:pre;overflow-x:auto;line-height:normal;font-family:Menlo,'DejaVu Sans Mono',consolas,'Courier New',monospace\"><span style=\"color: #800000; text-decoration-color: #800000\">Note: </span><span style=\"color: #800000; text-decoration-color: #800000\">cmn_yy_hosp</span><span style=\"color: #800000; text-decoration-color: #800000\">= </span><span style=\"color: #800000; text-decoration-color: #800000; font-weight: bold\">24</span>\n",
              "</pre>\n"
            ]
          },
          "metadata": {}
        },
        {
          "output_type": "display_data",
          "data": {
            "text/plain": [
              "\u001b[31mNote: \u001b[0m\u001b[31mcmn_qq_hosp\u001b[0m\u001b[31m= Q1\u001b[0m\n"
            ],
            "text/html": [
              "<pre style=\"white-space:pre;overflow-x:auto;line-height:normal;font-family:Menlo,'DejaVu Sans Mono',consolas,'Courier New',monospace\"><span style=\"color: #800000; text-decoration-color: #800000\">Note: </span><span style=\"color: #800000; text-decoration-color: #800000\">cmn_qq_hosp</span><span style=\"color: #800000; text-decoration-color: #800000\">= Q1</span>\n",
              "</pre>\n"
            ]
          },
          "metadata": {}
        },
        {
          "output_type": "display_data",
          "data": {
            "text/plain": [
              "\u001b[31mNote: \u001b[0m\u001b[31mcmn_folder\u001b[0m\u001b[31m= \u001b[0m\u001b[1;31m2023\u001b[0m\u001b[31m-Q4 APU\u001b[0m\n"
            ],
            "text/html": [
              "<pre style=\"white-space:pre;overflow-x:auto;line-height:normal;font-family:Menlo,'DejaVu Sans Mono',consolas,'Courier New',monospace\"><span style=\"color: #800000; text-decoration-color: #800000\">Note: </span><span style=\"color: #800000; text-decoration-color: #800000\">cmn_folder</span><span style=\"color: #800000; text-decoration-color: #800000\">= </span><span style=\"color: #800000; text-decoration-color: #800000; font-weight: bold\">2023</span><span style=\"color: #800000; text-decoration-color: #800000\">-Q4 APU</span>\n",
              "</pre>\n"
            ]
          },
          "metadata": {}
        },
        {
          "output_type": "display_data",
          "data": {
            "text/plain": [
              "\u001b[31mNote: \u001b[0m\u001b[31mcmn_qtr_start_hive\u001b[0m\u001b[31m= \u001b[0m\u001b[1;31m2023\u001b[0m\u001b[31m-\u001b[0m\u001b[1;31m10\u001b[0m\u001b[31m-\u001b[0m\u001b[1;31m01\u001b[0m\n"
            ],
            "text/html": [
              "<pre style=\"white-space:pre;overflow-x:auto;line-height:normal;font-family:Menlo,'DejaVu Sans Mono',consolas,'Courier New',monospace\"><span style=\"color: #800000; text-decoration-color: #800000\">Note: </span><span style=\"color: #800000; text-decoration-color: #800000\">cmn_qtr_start_hive</span><span style=\"color: #800000; text-decoration-color: #800000\">= </span><span style=\"color: #800000; text-decoration-color: #800000; font-weight: bold\">2023</span><span style=\"color: #800000; text-decoration-color: #800000\">-</span><span style=\"color: #800000; text-decoration-color: #800000; font-weight: bold\">10</span><span style=\"color: #800000; text-decoration-color: #800000\">-</span><span style=\"color: #800000; text-decoration-color: #800000; font-weight: bold\">01</span>\n",
              "</pre>\n"
            ]
          },
          "metadata": {}
        },
        {
          "output_type": "display_data",
          "data": {
            "text/plain": [
              "\u001b[31mNote: \u001b[0m\u001b[31mcmn_qtr_end_hive\u001b[0m\u001b[31m= \u001b[0m\u001b[1;31m2023\u001b[0m\u001b[31m-\u001b[0m\u001b[1;31m12\u001b[0m\u001b[31m-\u001b[0m\u001b[1;31m31\u001b[0m\n"
            ],
            "text/html": [
              "<pre style=\"white-space:pre;overflow-x:auto;line-height:normal;font-family:Menlo,'DejaVu Sans Mono',consolas,'Courier New',monospace\"><span style=\"color: #800000; text-decoration-color: #800000\">Note: </span><span style=\"color: #800000; text-decoration-color: #800000\">cmn_qtr_end_hive</span><span style=\"color: #800000; text-decoration-color: #800000\">= </span><span style=\"color: #800000; text-decoration-color: #800000; font-weight: bold\">2023</span><span style=\"color: #800000; text-decoration-color: #800000\">-</span><span style=\"color: #800000; text-decoration-color: #800000; font-weight: bold\">12</span><span style=\"color: #800000; text-decoration-color: #800000\">-</span><span style=\"color: #800000; text-decoration-color: #800000; font-weight: bold\">31</span>\n",
              "</pre>\n"
            ]
          },
          "metadata": {}
        },
        {
          "output_type": "display_data",
          "data": {
            "text/plain": [
              "\u001b[31mNote: \u001b[0m\u001b[31mcmn_qtr_start_hive_hosp\u001b[0m\u001b[31m= \u001b[0m\u001b[1;31m2024\u001b[0m\u001b[31m-\u001b[0m\u001b[1;31m01\u001b[0m\u001b[31m-\u001b[0m\u001b[1;31m01\u001b[0m\n"
            ],
            "text/html": [
              "<pre style=\"white-space:pre;overflow-x:auto;line-height:normal;font-family:Menlo,'DejaVu Sans Mono',consolas,'Courier New',monospace\"><span style=\"color: #800000; text-decoration-color: #800000\">Note: </span><span style=\"color: #800000; text-decoration-color: #800000\">cmn_qtr_start_hive_hosp</span><span style=\"color: #800000; text-decoration-color: #800000\">= </span><span style=\"color: #800000; text-decoration-color: #800000; font-weight: bold\">2024</span><span style=\"color: #800000; text-decoration-color: #800000\">-</span><span style=\"color: #800000; text-decoration-color: #800000; font-weight: bold\">01</span><span style=\"color: #800000; text-decoration-color: #800000\">-</span><span style=\"color: #800000; text-decoration-color: #800000; font-weight: bold\">01</span>\n",
              "</pre>\n"
            ]
          },
          "metadata": {}
        },
        {
          "output_type": "display_data",
          "data": {
            "text/plain": [
              "\u001b[31mNote: \u001b[0m\u001b[31mcmn_qtr_end_hive_hosp\u001b[0m\u001b[31m= \u001b[0m\u001b[1;31m2024\u001b[0m\u001b[31m-\u001b[0m\u001b[1;31m03\u001b[0m\u001b[31m-\u001b[0m\u001b[1;31m31\u001b[0m\n"
            ],
            "text/html": [
              "<pre style=\"white-space:pre;overflow-x:auto;line-height:normal;font-family:Menlo,'DejaVu Sans Mono',consolas,'Courier New',monospace\"><span style=\"color: #800000; text-decoration-color: #800000\">Note: </span><span style=\"color: #800000; text-decoration-color: #800000\">cmn_qtr_end_hive_hosp</span><span style=\"color: #800000; text-decoration-color: #800000\">= </span><span style=\"color: #800000; text-decoration-color: #800000; font-weight: bold\">2024</span><span style=\"color: #800000; text-decoration-color: #800000\">-</span><span style=\"color: #800000; text-decoration-color: #800000; font-weight: bold\">03</span><span style=\"color: #800000; text-decoration-color: #800000\">-</span><span style=\"color: #800000; text-decoration-color: #800000; font-weight: bold\">31</span>\n",
              "</pre>\n"
            ]
          },
          "metadata": {}
        }
      ]
    },
    {
      "cell_type": "code",
      "source": [
        "print(Config_obj.cmn_qtr_start)\n",
        "print(Config_obj.cmn_qtr_end)"
      ],
      "metadata": {
        "colab": {
          "base_uri": "https://localhost:8080/"
        },
        "id": "TTbT6MkM2uwm",
        "outputId": "18945ef0-4a41-4021-eaf4-9d0f60eca17f"
      },
      "execution_count": 3,
      "outputs": [
        {
          "output_type": "stream",
          "name": "stdout",
          "text": [
            "01OCT2023\n",
            "31DEC2023\n"
          ]
        }
      ]
    }
  ]
}