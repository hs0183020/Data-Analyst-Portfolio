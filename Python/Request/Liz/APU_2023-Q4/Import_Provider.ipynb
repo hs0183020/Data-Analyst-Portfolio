{
  "nbformat": 4,
  "nbformat_minor": 0,
  "metadata": {
    "colab": {
      "provenance": [],
      "authorship_tag": "ABX9TyM7Jfs861riUCdqBziC02IV"
    },
    "kernelspec": {
      "name": "python3",
      "display_name": "Python 3"
    },
    "language_info": {
      "name": "python"
    }
  },
  "cells": [
    {
      "cell_type": "markdown",
      "source": [
        "\tThe purpose of this program is to collect a quarterly extract of providers for each PAC type (SNF, Hospice, IRF, LTCH.)\n",
        "\tThis is needed to update the list of providers for each PAC type for quarterly APU and OR reporting.\n",
        "\tThis quarterly extract will be combined with data from past quarters (necessary in order to capture earliest OPD.)\n",
        "\n",
        "\tInputs:\tCDR provider Hive database (currently legacy_provider_data), table csp_prvdr_cmn\n",
        "\tOutputs: One quarterly extract/provider type, output to project directory\n",
        "\n",
        "\tStrategy:\n",
        "\t\tRepeat for each PAC location:\n",
        "\t\t\tExtract data from Hive source using a passthrough query in PROC SQL\n",
        "\t\t\tThis doesn't allow for compression, so place results in the CASLIB for the output location\n",
        "\t\t\tWrite table to the CASLIB\n",
        "\t\tUpdated strategy:\n",
        "\t\t\tExtract data from Hive source using a passthrough query in PROC SQL\n",
        "\t\t\tQA data in work library\n",
        "\t\t\tWrite table to the workbench\n",
        "\n",
        "\tNotes:\n",
        "\t\tThis pulls all fields from the provider file. We don't really NEED all the fields for our purposes, so it might make sense to\n",
        "\t\trestrict the fields at some point in the future.\n",
        "\n",
        "\t\tWith that said, these are very small files, for the most part."
      ],
      "metadata": {
        "id": "Dml7WihPa4JU"
      }
    },
    {
      "cell_type": "code",
      "source": [
        "!rm -r Data-Analyst-Portfolio\n",
        "!git clone https://github.com/hs0183020/Data-Analyst-Portfolio.git"
      ],
      "metadata": {
        "id": "WiKTh20rwdEe",
        "outputId": "873536f3-8ac1-41d0-b0b1-d7a1d6ffceda",
        "colab": {
          "base_uri": "https://localhost:8080/"
        }
      },
      "execution_count": 3,
      "outputs": [
        {
          "output_type": "stream",
          "name": "stdout",
          "text": [
            "Cloning into 'Data-Analyst-Portfolio'...\n",
            "remote: Enumerating objects: 359, done.\u001b[K\n",
            "remote: Counting objects: 100% (277/277), done.\u001b[K\n",
            "remote: Compressing objects: 100% (246/246), done.\u001b[K\n",
            "remote: Total 359 (delta 107), reused 0 (delta 0), pack-reused 82\u001b[K\n",
            "Receiving objects: 100% (359/359), 1.27 MiB | 16.69 MiB/s, done.\n",
            "Resolving deltas: 100% (119/119), done.\n"
          ]
        }
      ]
    },
    {
      "cell_type": "code",
      "source": [
        "import sys\n",
        "sys.path.insert(0,'/content/Data-Analyst-Portfolio/Python/Request/Liz/APU_2023-Q4')\n",
        "\n",
        "from rich import print\n",
        "from APU_Common import Config_obj"
      ],
      "metadata": {
        "id": "SSPBHmOWwjqK",
        "outputId": "233d6d34-b73c-431f-caae-f05d85a57ecf",
        "colab": {
          "base_uri": "https://localhost:8080/",
          "height": 81
        }
      },
      "execution_count": 4,
      "outputs": [
        {
          "output_type": "display_data",
          "data": {
            "text/plain": [
              "\u001b[31mNote: \u001b[0m\u001b[31mcmn_qtr_start\u001b[0m\u001b[31m= 01OCT2023 \u001b[0m\u001b[31mcmn_qtr_end\u001b[0m\u001b[31m= 31DEC2023\u001b[0m\n"
            ],
            "text/html": [
              "<pre style=\"white-space:pre;overflow-x:auto;line-height:normal;font-family:Menlo,'DejaVu Sans Mono',consolas,'Courier New',monospace\"><span style=\"color: #800000; text-decoration-color: #800000\">Note: </span><span style=\"color: #800000; text-decoration-color: #800000\">cmn_qtr_start</span><span style=\"color: #800000; text-decoration-color: #800000\">= 01OCT2023 </span><span style=\"color: #800000; text-decoration-color: #800000\">cmn_qtr_end</span><span style=\"color: #800000; text-decoration-color: #800000\">= 31DEC2023</span>\n",
              "</pre>\n"
            ]
          },
          "metadata": {}
        },
        {
          "output_type": "display_data",
          "data": {
            "text/plain": [
              "\u001b[31mNote: \u001b[0m\u001b[31mcmn_report_start\u001b[0m\u001b[31m= 01JAN2023 \u001b[0m\u001b[31mcmn_report_end\u001b[0m\u001b[31m= 31DEC2023\u001b[0m\n"
            ],
            "text/html": [
              "<pre style=\"white-space:pre;overflow-x:auto;line-height:normal;font-family:Menlo,'DejaVu Sans Mono',consolas,'Courier New',monospace\"><span style=\"color: #800000; text-decoration-color: #800000\">Note: </span><span style=\"color: #800000; text-decoration-color: #800000\">cmn_report_start</span><span style=\"color: #800000; text-decoration-color: #800000\">= 01JAN2023 </span><span style=\"color: #800000; text-decoration-color: #800000\">cmn_report_end</span><span style=\"color: #800000; text-decoration-color: #800000\">= 31DEC2023</span>\n",
              "</pre>\n"
            ]
          },
          "metadata": {}
        },
        {
          "output_type": "display_data",
          "data": {
            "text/plain": [
              "\u001b[31mNote: \u001b[0m\u001b[31mcmn_qtr_start_hosp\u001b[0m\u001b[31m= 01JAN2024 \u001b[0m\u001b[31mcmn_qtr_end_hosp\u001b[0m\u001b[31m= 31MAR2024\u001b[0m\n"
            ],
            "text/html": [
              "<pre style=\"white-space:pre;overflow-x:auto;line-height:normal;font-family:Menlo,'DejaVu Sans Mono',consolas,'Courier New',monospace\"><span style=\"color: #800000; text-decoration-color: #800000\">Note: </span><span style=\"color: #800000; text-decoration-color: #800000\">cmn_qtr_start_hosp</span><span style=\"color: #800000; text-decoration-color: #800000\">= 01JAN2024 </span><span style=\"color: #800000; text-decoration-color: #800000\">cmn_qtr_end_hosp</span><span style=\"color: #800000; text-decoration-color: #800000\">= 31MAR2024</span>\n",
              "</pre>\n"
            ]
          },
          "metadata": {}
        },
        {
          "output_type": "display_data",
          "data": {
            "text/plain": [
              "\u001b[31mNote: \u001b[0m\u001b[31mcmn_report_start_hosp\u001b[0m\u001b[31m= 01JAN2024 \u001b[0m\u001b[31mcmn_report_end_hosp\u001b[0m\u001b[31m= 31MAR2024\u001b[0m\n"
            ],
            "text/html": [
              "<pre style=\"white-space:pre;overflow-x:auto;line-height:normal;font-family:Menlo,'DejaVu Sans Mono',consolas,'Courier New',monospace\"><span style=\"color: #800000; text-decoration-color: #800000\">Note: </span><span style=\"color: #800000; text-decoration-color: #800000\">cmn_report_start_hosp</span><span style=\"color: #800000; text-decoration-color: #800000\">= 01JAN2024 </span><span style=\"color: #800000; text-decoration-color: #800000\">cmn_report_end_hosp</span><span style=\"color: #800000; text-decoration-color: #800000\">= 31MAR2024</span>\n",
              "</pre>\n"
            ]
          },
          "metadata": {}
        }
      ]
    },
    {
      "cell_type": "code",
      "source": [
        "folder = Config_obj.cmn_folder\n",
        "print(\"[red]Note: folder is \" + str(folder) + \"[/]\")"
      ],
      "metadata": {
        "id": "kNHnQC_Kw2XJ",
        "colab": {
          "base_uri": "https://localhost:8080/",
          "height": 33
        },
        "outputId": "083c8885-9747-4c65-d50e-3130c0ad3d88"
      },
      "execution_count": 5,
      "outputs": [
        {
          "output_type": "display_data",
          "data": {
            "text/plain": [
              "\u001b[31mNote: folder is \u001b[0m\u001b[1;31m2023\u001b[0m\u001b[31m-Q4 APU\u001b[0m\n"
            ],
            "text/html": [
              "<pre style=\"white-space:pre;overflow-x:auto;line-height:normal;font-family:Menlo,'DejaVu Sans Mono',consolas,'Courier New',monospace\"><span style=\"color: #800000; text-decoration-color: #800000\">Note: folder is </span><span style=\"color: #800000; text-decoration-color: #800000; font-weight: bold\">2023</span><span style=\"color: #800000; text-decoration-color: #800000\">-Q4 APU</span>\n",
              "</pre>\n"
            ]
          },
          "metadata": {}
        }
      ]
    },
    {
      "cell_type": "code",
      "source": [
        "print(Config_obj.cmn_qtr_start)\n",
        "print(Config_obj.cmn_qtr_end)"
      ],
      "metadata": {
        "colab": {
          "base_uri": "https://localhost:8080/",
          "height": 49
        },
        "id": "TTbT6MkM2uwm",
        "outputId": "c33b1535-76d3-4a66-973d-2b48cd2e4144"
      },
      "execution_count": 7,
      "outputs": [
        {
          "output_type": "display_data",
          "data": {
            "text/plain": [
              "01OCT2023\n"
            ],
            "text/html": [
              "<pre style=\"white-space:pre;overflow-x:auto;line-height:normal;font-family:Menlo,'DejaVu Sans Mono',consolas,'Courier New',monospace\">01OCT2023\n",
              "</pre>\n"
            ]
          },
          "metadata": {}
        },
        {
          "output_type": "display_data",
          "data": {
            "text/plain": [
              "31DEC2023\n"
            ],
            "text/html": [
              "<pre style=\"white-space:pre;overflow-x:auto;line-height:normal;font-family:Menlo,'DejaVu Sans Mono',consolas,'Courier New',monospace\">31DEC2023\n",
              "</pre>\n"
            ]
          },
          "metadata": {}
        }
      ]
    }
  ]
}