{
  "nbformat": 4,
  "nbformat_minor": 0,
  "metadata": {
    "colab": {
      "provenance": [],
      "authorship_tag": "ABX9TyMvPHSlH1pZ1CKDTuKMXDe1"
    },
    "kernelspec": {
      "name": "python3",
      "display_name": "Python 3"
    },
    "language_info": {
      "name": "python"
    }
  },
  "cells": [
    {
      "cell_type": "markdown",
      "source": [
        "\tThe purpose of this program is to collect a quarterly extract of providers for each PAC type (SNF, Hospice, IRF, LTCH.)\n",
        "\tThis is needed to update the list of providers for each PAC type for quarterly APU and OR reporting.\n",
        "\tThis quarterly extract will be combined with data from past quarters (necessary in order to capture earliest OPD.)\n",
        "\n",
        "\tInputs:\tCDR provider Hive database (currently legacy_provider_data), table csp_prvdr_cmn\n",
        "\tOutputs: One quarterly extract/provider type, output to project directory\n",
        "\n",
        "\tStrategy:\n",
        "\t\tRepeat for each PAC location:\n",
        "\t\t\tExtract data from Hive source using a passthrough query in PROC SQL\n",
        "\t\t\tThis doesn't allow for compression, so place results in the CASLIB for the output location\n",
        "\t\t\tWrite table to the CASLIB\n",
        "\t\tUpdated strategy:\n",
        "\t\t\tExtract data from Hive source using a passthrough query in PROC SQL\n",
        "\t\t\tQA data in work library\n",
        "\t\t\tWrite table to the workbench\n",
        "\n",
        "\tNotes:\n",
        "\t\tThis pulls all fields from the provider file. We don't really NEED all the fields for our purposes, so it might make sense to\n",
        "\t\trestrict the fields at some point in the future.\n",
        "\n",
        "\t\tWith that said, these are very small files, for the most part."
      ],
      "metadata": {
        "id": "Dml7WihPa4JU"
      }
    },
    {
      "cell_type": "code",
      "source": [
        "!git clone https://github.com/hs0183020/Data-Analyst-Portfolio.git"
      ],
      "metadata": {
        "id": "WiKTh20rwdEe",
        "outputId": "26ce7957-ad37-4a7d-afff-e40498339f20",
        "colab": {
          "base_uri": "https://localhost:8080/"
        }
      },
      "execution_count": 1,
      "outputs": [
        {
          "output_type": "stream",
          "name": "stdout",
          "text": [
            "Cloning into 'Data-Analyst-Portfolio'...\n",
            "remote: Enumerating objects: 345, done.\u001b[K\n",
            "remote: Counting objects: 100% (263/263), done.\u001b[K\n",
            "remote: Compressing objects: 100% (232/232), done.\u001b[K\n",
            "remote: Total 345 (delta 96), reused 0 (delta 0), pack-reused 82\u001b[K\n",
            "Receiving objects: 100% (345/345), 1.27 MiB | 11.39 MiB/s, done.\n",
            "Resolving deltas: 100% (108/108), done.\n"
          ]
        }
      ]
    },
    {
      "cell_type": "code",
      "source": [
        "import sys\n",
        "sys.path.insert(0,'/content/Data-Analyst-Portfolio/Python/Request/Liz/APU_2023-Q4')\n",
        "\n",
        "from rich import print\n",
        "from APU_Common import Config_obj"
      ],
      "metadata": {
        "id": "SSPBHmOWwjqK",
        "outputId": "e8a05ec5-53f3-4543-fdb7-fa0ce8896787",
        "colab": {
          "base_uri": "https://localhost:8080/",
          "height": 397
        }
      },
      "execution_count": 10,
      "outputs": [
        {
          "output_type": "display_data",
          "data": {
            "text/plain": [
              "\u001b[31mNote: \u001b[0m\u001b[31mcmn_qtr_start\u001b[0m\u001b[31m= 01OCT2023 \u001b[0m\u001b[31mcmn_qtr_end\u001b[0m\u001b[31m= 31DEC2023\u001b[0m\n"
            ],
            "text/html": [
              "<pre style=\"white-space:pre;overflow-x:auto;line-height:normal;font-family:Menlo,'DejaVu Sans Mono',consolas,'Courier New',monospace\"><span style=\"color: #800000; text-decoration-color: #800000\">Note: </span><span style=\"color: #800000; text-decoration-color: #800000\">cmn_qtr_start</span><span style=\"color: #800000; text-decoration-color: #800000\">= 01OCT2023 </span><span style=\"color: #800000; text-decoration-color: #800000\">cmn_qtr_end</span><span style=\"color: #800000; text-decoration-color: #800000\">= 31DEC2023</span>\n",
              "</pre>\n"
            ]
          },
          "metadata": {}
        },
        {
          "output_type": "display_data",
          "data": {
            "text/plain": [
              "\u001b[31mNote: \u001b[0m\u001b[31mcmn_report_start\u001b[0m\u001b[31m= 01JAN2023 \u001b[0m\u001b[31mcmn_report_end\u001b[0m\u001b[31m= 31DEC2023\u001b[0m\n"
            ],
            "text/html": [
              "<pre style=\"white-space:pre;overflow-x:auto;line-height:normal;font-family:Menlo,'DejaVu Sans Mono',consolas,'Courier New',monospace\"><span style=\"color: #800000; text-decoration-color: #800000\">Note: </span><span style=\"color: #800000; text-decoration-color: #800000\">cmn_report_start</span><span style=\"color: #800000; text-decoration-color: #800000\">= 01JAN2023 </span><span style=\"color: #800000; text-decoration-color: #800000\">cmn_report_end</span><span style=\"color: #800000; text-decoration-color: #800000\">= 31DEC2023</span>\n",
              "</pre>\n"
            ]
          },
          "metadata": {}
        },
        {
          "output_type": "display_data",
          "data": {
            "text/plain": [
              "\u001b[31mNote: \u001b[0m\u001b[31mcmn_qtr_start_hosp\u001b[0m\u001b[31m= 01JAN2024 \u001b[0m\u001b[31mcmn_qtr_end_hosp\u001b[0m\u001b[31m= 31MAR2024\u001b[0m\n"
            ],
            "text/html": [
              "<pre style=\"white-space:pre;overflow-x:auto;line-height:normal;font-family:Menlo,'DejaVu Sans Mono',consolas,'Courier New',monospace\"><span style=\"color: #800000; text-decoration-color: #800000\">Note: </span><span style=\"color: #800000; text-decoration-color: #800000\">cmn_qtr_start_hosp</span><span style=\"color: #800000; text-decoration-color: #800000\">= 01JAN2024 </span><span style=\"color: #800000; text-decoration-color: #800000\">cmn_qtr_end_hosp</span><span style=\"color: #800000; text-decoration-color: #800000\">= 31MAR2024</span>\n",
              "</pre>\n"
            ]
          },
          "metadata": {}
        },
        {
          "output_type": "display_data",
          "data": {
            "text/plain": [
              "\u001b[31mNote: \u001b[0m\u001b[31mcmn_report_start_hosp\u001b[0m\u001b[31m= 01JAN2024 \u001b[0m\u001b[31mcmn_report_end_hosp\u001b[0m\u001b[31m= 31MAR2024\u001b[0m\n"
            ],
            "text/html": [
              "<pre style=\"white-space:pre;overflow-x:auto;line-height:normal;font-family:Menlo,'DejaVu Sans Mono',consolas,'Courier New',monospace\"><span style=\"color: #800000; text-decoration-color: #800000\">Note: </span><span style=\"color: #800000; text-decoration-color: #800000\">cmn_report_start_hosp</span><span style=\"color: #800000; text-decoration-color: #800000\">= 01JAN2024 </span><span style=\"color: #800000; text-decoration-color: #800000\">cmn_report_end_hosp</span><span style=\"color: #800000; text-decoration-color: #800000\">= 31MAR2024</span>\n",
              "</pre>\n"
            ]
          },
          "metadata": {}
        },
        {
          "output_type": "error",
          "ename": "NameError",
          "evalue": "name 'cmn_q' is not defined",
          "traceback": [
            "\u001b[0;31m---------------------------------------------------------------------------\u001b[0m",
            "\u001b[0;31mNameError\u001b[0m                                 Traceback (most recent call last)",
            "\u001b[0;32m<ipython-input-10-33d9826859bf>\u001b[0m in \u001b[0;36m<cell line: 5>\u001b[0;34m()\u001b[0m\n\u001b[1;32m      3\u001b[0m \u001b[0;34m\u001b[0m\u001b[0m\n\u001b[1;32m      4\u001b[0m \u001b[0;32mfrom\u001b[0m \u001b[0mrich\u001b[0m \u001b[0;32mimport\u001b[0m \u001b[0mprint\u001b[0m\u001b[0;34m\u001b[0m\u001b[0;34m\u001b[0m\u001b[0m\n\u001b[0;32m----> 5\u001b[0;31m \u001b[0;32mfrom\u001b[0m \u001b[0mAPU_Common\u001b[0m \u001b[0;32mimport\u001b[0m \u001b[0mConfig_obj\u001b[0m\u001b[0;34m\u001b[0m\u001b[0;34m\u001b[0m\u001b[0m\n\u001b[0m",
            "\u001b[0;32m/content/Data-Analyst-Portfolio/Python/Request/Liz/APU_2023-Q4/APU_Common.py\u001b[0m in \u001b[0;36m<module>\u001b[0;34m\u001b[0m\n\u001b[1;32m     67\u001b[0m     \u001b[0mself\u001b[0m\u001b[0;34m.\u001b[0m\u001b[0mcmn_folder\u001b[0m \u001b[0;34m=\u001b[0m \u001b[0mstr\u001b[0m\u001b[0;34m(\u001b[0m\u001b[0mself\u001b[0m\u001b[0;34m.\u001b[0m\u001b[0mcmn_yyyy\u001b[0m\u001b[0;34m)\u001b[0m \u001b[0;34m+\u001b[0m \u001b[0;34m\"-\"\u001b[0m \u001b[0;34m+\u001b[0m \u001b[0mstr\u001b[0m\u001b[0;34m(\u001b[0m\u001b[0mself\u001b[0m\u001b[0;34m.\u001b[0m\u001b[0mcmn_qq\u001b[0m\u001b[0;34m)\u001b[0m \u001b[0;34m+\u001b[0m \u001b[0;34m\" \"\u001b[0m \u001b[0;34m+\u001b[0m \u001b[0mself\u001b[0m\u001b[0;34m.\u001b[0m\u001b[0mcycle\u001b[0m\u001b[0;34m\u001b[0m\u001b[0;34m\u001b[0m\u001b[0m\n\u001b[1;32m     68\u001b[0m \u001b[0;34m\u001b[0m\u001b[0m\n\u001b[0;32m---> 69\u001b[0;31m \u001b[0mConfig_obj\u001b[0m \u001b[0;34m=\u001b[0m \u001b[0mConfig\u001b[0m\u001b[0;34m(\u001b[0m\u001b[0;34m)\u001b[0m\u001b[0;34m\u001b[0m\u001b[0;34m\u001b[0m\u001b[0m\n\u001b[0m",
            "\u001b[0;32m/content/Data-Analyst-Portfolio/Python/Request/Liz/APU_2023-Q4/APU_Common.py\u001b[0m in \u001b[0;36m__init__\u001b[0;34m(self)\u001b[0m\n\u001b[1;32m     64\u001b[0m \u001b[0;34m\u001b[0m\u001b[0m\n\u001b[1;32m     65\u001b[0m \u001b[0;34m\u001b[0m\u001b[0m\n\u001b[0;32m---> 66\u001b[0;31m     \u001b[0mself\u001b[0m\u001b[0;34m.\u001b[0m\u001b[0mcmn_qq\u001b[0m \u001b[0;34m=\u001b[0m \u001b[0;34m\"Q\"\u001b[0m \u001b[0;34m+\u001b[0m \u001b[0mstr\u001b[0m\u001b[0;34m(\u001b[0m\u001b[0mcmn_q\u001b[0m\u001b[0;34m)\u001b[0m\u001b[0;34m\u001b[0m\u001b[0;34m\u001b[0m\u001b[0m\n\u001b[0m\u001b[1;32m     67\u001b[0m     \u001b[0mself\u001b[0m\u001b[0;34m.\u001b[0m\u001b[0mcmn_folder\u001b[0m \u001b[0;34m=\u001b[0m \u001b[0mstr\u001b[0m\u001b[0;34m(\u001b[0m\u001b[0mself\u001b[0m\u001b[0;34m.\u001b[0m\u001b[0mcmn_yyyy\u001b[0m\u001b[0;34m)\u001b[0m \u001b[0;34m+\u001b[0m \u001b[0;34m\"-\"\u001b[0m \u001b[0;34m+\u001b[0m \u001b[0mstr\u001b[0m\u001b[0;34m(\u001b[0m\u001b[0mself\u001b[0m\u001b[0;34m.\u001b[0m\u001b[0mcmn_qq\u001b[0m\u001b[0;34m)\u001b[0m \u001b[0;34m+\u001b[0m \u001b[0;34m\" \"\u001b[0m \u001b[0;34m+\u001b[0m \u001b[0mself\u001b[0m\u001b[0;34m.\u001b[0m\u001b[0mcycle\u001b[0m\u001b[0;34m\u001b[0m\u001b[0;34m\u001b[0m\u001b[0m\n\u001b[1;32m     68\u001b[0m \u001b[0;34m\u001b[0m\u001b[0m\n",
            "\u001b[0;31mNameError\u001b[0m: name 'cmn_q' is not defined"
          ]
        }
      ]
    },
    {
      "cell_type": "code",
      "source": [
        "folder = Config_obj.cmn_folder\n",
        "print(\"[red]Note: folder is \" + str(folder) + \"[/]\")"
      ],
      "metadata": {
        "id": "kNHnQC_Kw2XJ",
        "colab": {
          "base_uri": "https://localhost:8080/",
          "height": 33
        },
        "outputId": "3129b6af-f24b-4ff5-ff1e-e58205cf2561"
      },
      "execution_count": null,
      "outputs": [
        {
          "output_type": "display_data",
          "data": {
            "text/plain": [
              "\u001b[31mNote: folder is \u001b[0m\u001b[1;31m2023\u001b[0m\u001b[31m-Q4 APU\u001b[0m\n"
            ],
            "text/html": [
              "<pre style=\"white-space:pre;overflow-x:auto;line-height:normal;font-family:Menlo,'DejaVu Sans Mono',consolas,'Courier New',monospace\"><span style=\"color: #800000; text-decoration-color: #800000\">Note: folder is </span><span style=\"color: #800000; text-decoration-color: #800000; font-weight: bold\">2023</span><span style=\"color: #800000; text-decoration-color: #800000\">-Q4 APU</span>\n",
              "</pre>\n"
            ]
          },
          "metadata": {}
        }
      ]
    },
    {
      "cell_type": "code",
      "source": [],
      "metadata": {
        "id": "mgTMbKenawnn"
      },
      "execution_count": null,
      "outputs": []
    },
    {
      "cell_type": "code",
      "source": [
        "print(Config_obj1.cmn_qtr_start)\n",
        "print(Config_obj1.cmn_qtr_end)"
      ],
      "metadata": {
        "colab": {
          "base_uri": "https://localhost:8080/"
        },
        "id": "TTbT6MkM2uwm",
        "outputId": "fe8c4f8c-84dd-4726-bb20-bf731b59df58"
      },
      "execution_count": null,
      "outputs": [
        {
          "output_type": "stream",
          "name": "stdout",
          "text": [
            "01OCT2023\n",
            "31DEC2023\n"
          ]
        }
      ]
    }
  ]
}